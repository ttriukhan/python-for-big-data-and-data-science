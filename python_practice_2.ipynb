{
  "nbformat": 4,
  "nbformat_minor": 0,
  "metadata": {
    "colab": {
      "provenance": []
    },
    "kernelspec": {
      "name": "python3",
      "display_name": "Python 3"
    },
    "language_info": {
      "name": "python"
    }
  },
  "cells": [
    {
      "cell_type": "markdown",
      "source": [
        "# I. Змінні та памʼять."
      ],
      "metadata": {
        "id": "p9wwt0LZzNvn"
      }
    },
    {
      "cell_type": "markdown",
      "source": [
        "1. Створити змінні, що посилаються на два цілих числа, що однакові за значенням, де значення належить проміжку від -5 до 256. Перевірте, чи будуть ці змінні рівні тільки за значенням або ж ще будуть посилатися на один і той самий обʼєкт в памʼяті? Наведіть код та дайте текстову відповідь нижче."
      ],
      "metadata": {
        "id": "HTJrrm95xSV9"
      }
    },
    {
      "cell_type": "code",
      "execution_count": 24,
      "metadata": {
        "id": "TATni2vzayjG",
        "colab": {
          "base_uri": "https://localhost:8080/"
        },
        "outputId": "42493fb1-2158-45bd-8715-8f996667a032"
      },
      "outputs": [
        {
          "output_type": "stream",
          "name": "stdout",
          "text": [
            "True\n",
            "10751048 10751048\n"
          ]
        }
      ],
      "source": [
        "num_1 = 7\n",
        "num_2 = 7\n",
        "print(num_1 == num_2)\n",
        "print(id(num_1), id(num_2))"
      ]
    },
    {
      "cell_type": "markdown",
      "source": [
        "Змінні посилаються на один і той же об'єкт пам'яті, оскільки найчастіше використовувані числа (-5, 256) використовують одні id для оптимізації"
      ],
      "metadata": {
        "id": "zfRG_o3WbRdg"
      }
    },
    {
      "cell_type": "markdown",
      "source": [
        "2. За допомогою якої функції можна перевірити належність змінної до вказаного типу даних (напр. чи змінна True посилається на значення булевого та цілочисленого типу)?"
      ],
      "metadata": {
        "id": "ISORzt6M3vAt"
      }
    },
    {
      "cell_type": "code",
      "source": [
        "print(isinstance(True, bool))\n",
        "print(isinstance(True, int))"
      ],
      "metadata": {
        "id": "9vL9CFaMbfyo",
        "colab": {
          "base_uri": "https://localhost:8080/"
        },
        "outputId": "a4733a77-263c-4c47-8c55-16b1326b944c"
      },
      "execution_count": 5,
      "outputs": [
        {
          "output_type": "stream",
          "name": "stdout",
          "text": [
            "True\n",
            "True\n"
          ]
        }
      ]
    },
    {
      "cell_type": "markdown",
      "source": [
        "# II. Цілі числа та числа з рухомою комою"
      ],
      "metadata": {
        "id": "tRxugKAxwYLw"
      }
    },
    {
      "cell_type": "markdown",
      "source": [
        "3. Створити дві змінні, що посилаються на будь-які ціле число та число з рухомою комою та продемонструвати такі арифметичні операції: додавання, віднімання, ділення, множення, ділення без залишку, ділення по модулю, приведення до ступеню. Всі результати операцій вивести на екран."
      ],
      "metadata": {
        "id": "NLHkgd5Gybc8"
      }
    },
    {
      "cell_type": "code",
      "source": [
        "num_int = 5\n",
        "num_fl = 0.1\n",
        "print(\"for 5 and 0.1\\n-----------------\")\n",
        "print(f\"addition:  {num_int + num_fl}\")\n",
        "print(f\"subtraction:  {num_int - num_fl}\")\n",
        "print(f\"division:  {num_int / num_fl}\")\n",
        "print(f\"nultiplication:  {num_int * num_fl}\")\n",
        "print(f\"floor division:  {num_int // num_fl}\")\n",
        "print(f\"modulus:  {num_int % num_fl}\")\n",
        "print(f\"exponentation:  {num_int ** num_fl}\")\n"
      ],
      "metadata": {
        "id": "nb8u_3pjb2cA",
        "colab": {
          "base_uri": "https://localhost:8080/"
        },
        "outputId": "c6f9b0a8-460a-4840-e158-0774913df074"
      },
      "execution_count": 20,
      "outputs": [
        {
          "output_type": "stream",
          "name": "stdout",
          "text": [
            "for 5 and 0.1\n",
            "-----------------\n",
            "addition:  5.1\n",
            "subtraction:  4.9\n",
            "division:  50.0\n",
            "nultiplication:  0.5\n",
            "floor division:  49.0\n",
            "modulus:  0.09999999999999973\n",
            "exponentation:  1.174618943088019\n"
          ]
        }
      ]
    },
    {
      "cell_type": "markdown",
      "source": [
        "4. Використовуючи змінні з вправи 3, продемонструйте механізм явного перетворення типів, де числа з рухомою комою перетворюються на цілі числа. Також визначте змінну, що посилається на значення булевого типу і спробуйте явно привести її до цілого числа."
      ],
      "metadata": {
        "id": "1kBClKgPzZnC"
      }
    },
    {
      "cell_type": "code",
      "source": [
        "int_from_fl = int(num_fl)\n",
        "print(f\"int from {num_fl} = {int_from_fl}\")\n",
        "my_bool = True\n",
        "int_from_bool = int(my_bool)\n",
        "print(f\"int from {my_bool} = {int_from_bool}\")"
      ],
      "metadata": {
        "id": "TbqJbkeUcKsD",
        "colab": {
          "base_uri": "https://localhost:8080/"
        },
        "outputId": "94b3eb1c-9022-4585-c083-efbb908e1e88"
      },
      "execution_count": 27,
      "outputs": [
        {
          "output_type": "stream",
          "name": "stdout",
          "text": [
            "int from 0.1 = 0\n",
            "int from True = 1\n"
          ]
        }
      ]
    },
    {
      "cell_type": "markdown",
      "source": [
        "# IІІ. Рядки (String)."
      ],
      "metadata": {
        "id": "EVJ7AflwxrZi"
      }
    },
    {
      "cell_type": "markdown",
      "source": [
        "5. Створити пустий рядок двома різними способами."
      ],
      "metadata": {
        "id": "_s5ECzz9zE61"
      }
    },
    {
      "cell_type": "code",
      "source": [
        "empty_str_1 = str()\n",
        "empty_str_2 = \"\""
      ],
      "metadata": {
        "id": "fkZJHu9Scvc-"
      },
      "execution_count": 28,
      "outputs": []
    },
    {
      "cell_type": "markdown",
      "source": [
        "6. Створити рядок з апострофом. Зробити його сирим. Вивести обидва рядка на екран."
      ],
      "metadata": {
        "id": "4Bdn9J3MzLf_"
      }
    },
    {
      "cell_type": "code",
      "source": [
        "str_apostrophe = 'You\\'re doing great'\n",
        "str_apostrophe_raw = r'You\\'re doing great'\n",
        "print(str_apostrophe)\n",
        "print(f\"raw: {str_apostrophe_raw}\")"
      ],
      "metadata": {
        "id": "ivji_hsmc0GH",
        "colab": {
          "base_uri": "https://localhost:8080/"
        },
        "outputId": "21427a06-53d5-4408-c08e-bf5ab096638a"
      },
      "execution_count": 32,
      "outputs": [
        {
          "output_type": "stream",
          "name": "stdout",
          "text": [
            "You're doing great\n",
            "raw: You\\'re doing great\n"
          ]
        }
      ]
    },
    {
      "cell_type": "markdown",
      "source": [
        "7. Створити змінну, що буде посилатися на Ваше прізвище латинкою. Створити форматований рядок, який буде мати вигляд \"My surname is ______\", де на місці нижніх підкреслень буде Ваше прізвище зі змінної."
      ],
      "metadata": {
        "id": "bg_d8wM4z8dS"
      }
    },
    {
      "cell_type": "code",
      "source": [
        "my_surname = \"Triukhan\"\n",
        "formatted_str = f\"My surname is {my_surname}\"\n",
        "print(formatted_str)"
      ],
      "metadata": {
        "id": "kuxFgpWndACq",
        "colab": {
          "base_uri": "https://localhost:8080/"
        },
        "outputId": "7ffd586b-37cf-43e9-944b-430ef635f2e6"
      },
      "execution_count": 34,
      "outputs": [
        {
          "output_type": "stream",
          "name": "stdout",
          "text": [
            "My surname is Triukhan\n"
          ]
        }
      ]
    },
    {
      "cell_type": "markdown",
      "source": [
        "**`8`**. Маючи рядок \"My dog is crazy.\" перетворити його на список [\"my\", \"dog\", \"is\", \"crazy\"]"
      ],
      "metadata": {
        "id": "1Nc6RqvQ0hxU"
      }
    },
    {
      "cell_type": "code",
      "source": [
        "my_str = \"My dog is crazy.\"\n",
        "list_from_str = my_str.lower().strip(\".\").split(\" \")\n",
        "print(list_from_str)"
      ],
      "metadata": {
        "id": "w1Ya4RqedUhw",
        "colab": {
          "base_uri": "https://localhost:8080/"
        },
        "outputId": "995b1172-2872-4c90-c848-844189929cfd"
      },
      "execution_count": 38,
      "outputs": [
        {
          "output_type": "stream",
          "name": "stdout",
          "text": [
            "['my', 'dog', 'is', 'crazy']\n"
          ]
        }
      ]
    },
    {
      "cell_type": "markdown",
      "source": [
        "# IV. Робота зі списками."
      ],
      "metadata": {
        "id": "GYVqN9uP1D4n"
      }
    },
    {
      "cell_type": "markdown",
      "source": [
        "9. Створити список двома різними за синтаксисом способами. За допомогою вбудованої функції обчисліть довжину одного з них."
      ],
      "metadata": {
        "id": "7-DeDunw2sO-"
      }
    },
    {
      "cell_type": "code",
      "source": [
        "list_1 = [1, 2, 3, 4]\n",
        "list_2 = [num for num in range(100)]\n",
        "print(f\"list length = {len(list_2)}\")"
      ],
      "metadata": {
        "id": "zxg06Uuxdyoh",
        "colab": {
          "base_uri": "https://localhost:8080/"
        },
        "outputId": "fd74a017-ea76-4f4b-f8cd-d82cf26df36f"
      },
      "execution_count": 41,
      "outputs": [
        {
          "output_type": "stream",
          "name": "stdout",
          "text": [
            "list length = 100\n"
          ]
        }
      ]
    },
    {
      "cell_type": "markdown",
      "source": [
        "10. Створіть два списка та за допомогою спеціального методу додайте другий з них в якості останнього елемента першого."
      ],
      "metadata": {
        "id": "8vmGUTjL22gI"
      }
    },
    {
      "cell_type": "code",
      "source": [
        "list_1 = [1,2,3,4]\n",
        "list_2 = [5]\n",
        "list_1.append(list_2)\n",
        "print(list_1)"
      ],
      "metadata": {
        "id": "uHtjWYw7d7hm",
        "colab": {
          "base_uri": "https://localhost:8080/"
        },
        "outputId": "f02bac39-7f51-45b9-d3f4-0a4f781c00a9"
      },
      "execution_count": 42,
      "outputs": [
        {
          "output_type": "stream",
          "name": "stdout",
          "text": [
            "[1, 2, 3, 4, [5]]\n"
          ]
        }
      ]
    },
    {
      "cell_type": "markdown",
      "source": [
        "11. Створіть список, де елементами цього списку також є списки. Отримай перший елемент з останнього рядка та виведи значення на екран."
      ],
      "metadata": {
        "id": "JC3BkD-67_--"
      }
    },
    {
      "cell_type": "code",
      "source": [
        "my_list = [\"a\", \"bc\", \"def\"]\n",
        "element = my_list[-1][0]\n",
        "print(element)"
      ],
      "metadata": {
        "id": "Kz2jZHsGeLlz",
        "colab": {
          "base_uri": "https://localhost:8080/"
        },
        "outputId": "dec1c6c0-a377-4072-d245-297bd4d9f6ad"
      },
      "execution_count": 43,
      "outputs": [
        {
          "output_type": "stream",
          "name": "stdout",
          "text": [
            "d\n"
          ]
        }
      ]
    },
    {
      "cell_type": "markdown",
      "source": [
        "12. Створіть список з десяти елементів різного типу. Отримайте всі елементи, окрім двох перших та двох останніх та збережіть їх в новій змінній."
      ],
      "metadata": {
        "id": "JA47PKTv8zFK"
      }
    },
    {
      "cell_type": "code",
      "source": [
        "my_list = [1, 2, 3, \"a\", True, (0, 1), [1, 2, \"c\"],\n",
        "           {1: \"k\", 2: \"b\"}, \"c\", None]\n",
        "new_list = my_list[2:8]\n",
        "print(my_list)\n",
        "print(f\"sliced: {new_list}\")"
      ],
      "metadata": {
        "id": "_rHdUR-ueP4-",
        "colab": {
          "base_uri": "https://localhost:8080/"
        },
        "outputId": "7d7d27cc-2321-4a94-f452-d6fce5028b20"
      },
      "execution_count": 48,
      "outputs": [
        {
          "output_type": "stream",
          "name": "stdout",
          "text": [
            "[1, 2, 3, 'a', True, (0, 1), [1, 2, 'c'], {1: 'k', 2: 'b'}, 'c', None]\n",
            "sliced: [3, 'a', True, (0, 1), [1, 2, 'c'], {1: 'k', 2: 'b'}]\n"
          ]
        }
      ]
    },
    {
      "cell_type": "markdown",
      "source": [
        "# V. Робота з кортежами."
      ],
      "metadata": {
        "id": "pCjR1dJb1Qbi"
      }
    },
    {
      "cell_type": "markdown",
      "source": [
        "14. Створити кортеж з один елементом."
      ],
      "metadata": {
        "id": "fAZCxAX06R_k"
      }
    },
    {
      "cell_type": "code",
      "source": [
        "my_tuple = (1,)\n",
        "print(my_tuple)"
      ],
      "metadata": {
        "id": "H7d82WkQev3e",
        "colab": {
          "base_uri": "https://localhost:8080/"
        },
        "outputId": "14cdae26-e745-4dec-beac-b03a8a9df521"
      },
      "execution_count": 53,
      "outputs": [
        {
          "output_type": "stream",
          "name": "stdout",
          "text": [
            "(1,)\n"
          ]
        }
      ]
    },
    {
      "cell_type": "markdown",
      "source": [
        "15. Порівняйте список та кортеж. Назвіть схожості та відмінності, випадки використання."
      ],
      "metadata": {
        "id": "8LCtYcmI6w1M"
      }
    },
    {
      "cell_type": "markdown",
      "source": [
        "Спільне:<br>\n",
        "зберігають множину елементів<br>\n",
        "доступ до елементів через індекси<br><br>\n",
        "\n",
        "Відмінне:<br>\n",
        "декларація: список - [], кортеж - (), до того ж дя декларації кортежів небхідна кома<br>\n",
        "Списки є змінними, тоді як кортежі - ні (що, зокрема, дозволяє використовувати їх як ключі)<br>\n",
        "Списки є повільнішими через мутабельність і мають більше методів<br><br>\n",
        "\n",
        "Використання:<br>\n",
        "кортежі можна використовувати для вищої швидкості обробки, якщо ми працюємо з незмінними даними, але якщо дані потрібно змінювати (або ми не можемо передбачити обсяг даних), то звісно необхідно використовувати списки"
      ],
      "metadata": {
        "id": "fUsN1Hnue0C6"
      }
    },
    {
      "cell_type": "markdown",
      "source": [
        "16. Створіть кортеж з 11ти елементів чисел з рухомою комою та отримайте кожен парний за індексом елемент в зворотньому порядку. Наприклад, маючи (1.2, 2.3, 3.3, 4.3, 5.3, 6.3, 7.3, 8.3, 9.3, 0.3), отримати (0.3, 8.3, 6.3, 4.3, 2.3). Результат збережіть в нову змінну та виведіть на екран."
      ],
      "metadata": {
        "id": "m0xrwFijAmDD"
      }
    },
    {
      "cell_type": "code",
      "source": [
        "floats_tuple = (0.2, 0.7, 1.3, 9.0, 2.7, 3.9, 1.4, 6.3, 5.2, 0.1, 3.5)\n",
        "even_index_tuple = floats_tuple[-1::-2]\n",
        "print(floats_tuple)\n",
        "print(f\"result: {even_index_tuple}\")"
      ],
      "metadata": {
        "id": "p-5DAH6XfAGA",
        "colab": {
          "base_uri": "https://localhost:8080/"
        },
        "outputId": "76df7805-bf27-4af0-e105-282c382494d3"
      },
      "execution_count": 64,
      "outputs": [
        {
          "output_type": "stream",
          "name": "stdout",
          "text": [
            "(0.2, 0.7, 1.3, 9.0, 2.7, 3.9, 1.4, 6.3, 5.2, 0.1, 3.5)\n",
            "result: (3.5, 5.2, 1.4, 2.7, 1.3, 0.2)\n"
          ]
        }
      ]
    },
    {
      "cell_type": "markdown",
      "source": [
        "# VI. Множини (Set)."
      ],
      "metadata": {
        "id": "rW_I9dt3x6cW"
      }
    },
    {
      "cell_type": "markdown",
      "source": [
        "17. Створити множину без елементів. Після цого за допомогою методу додайте кілька різних елементів до множини. Чи множини є змінним типом даних?"
      ],
      "metadata": {
        "id": "zNjRLHLw1Bgg"
      }
    },
    {
      "cell_type": "code",
      "source": [
        "my_set = set()\n",
        "print(f\"id before adding: {id(my_set)}\")\n",
        "my_set.add(0)\n",
        "my_set.add(10)\n",
        "my_set.add(100)\n",
        "print(my_set)\n",
        "print(f\"id after adding elements: {id(my_set)}\")"
      ],
      "metadata": {
        "id": "KOv7zc2Kfo4N",
        "colab": {
          "base_uri": "https://localhost:8080/"
        },
        "outputId": "955ada9d-7fec-4e89-e96c-c24c3265905d"
      },
      "execution_count": 70,
      "outputs": [
        {
          "output_type": "stream",
          "name": "stdout",
          "text": [
            "id before adding: 139189246388576\n",
            "{0, 10, 100}\n",
            "id after adding elements: 139189246388576\n"
          ]
        }
      ]
    },
    {
      "cell_type": "markdown",
      "source": [
        "Множини є змінним типом даних, що означає, що ми можемо змінити стан цих об'єктів без зміни комірки пам'яті (id)"
      ],
      "metadata": {
        "id": "vxS6dVYiftZQ"
      }
    },
    {
      "cell_type": "markdown",
      "source": [
        "18. Створити множину, маючи список my_list = [1, 1, 2, 67, 67, 8, 9]. Пояснити, чому \"зникли\" деякі елементи."
      ],
      "metadata": {
        "id": "gHpT0Zw_1HEF"
      }
    },
    {
      "cell_type": "code",
      "source": [
        "my_list = [1, 1, 2, 67, 67, 8, 9]\n",
        "my_set = set(my_list)\n",
        "print(my_set)"
      ],
      "metadata": {
        "id": "qCN4uvJ_fxmu",
        "colab": {
          "base_uri": "https://localhost:8080/"
        },
        "outputId": "d09123f0-07f2-4b14-8015-cfa1aaad97f5"
      },
      "execution_count": 72,
      "outputs": [
        {
          "output_type": "stream",
          "name": "stdout",
          "text": [
            "{1, 2, 67, 8, 9}\n"
          ]
        }
      ]
    },
    {
      "cell_type": "markdown",
      "source": [
        "Множини в Python містять лише унікальні значення, тому дублікати не додаються."
      ],
      "metadata": {
        "id": "tFNc1e20fyny"
      }
    },
    {
      "cell_type": "markdown",
      "source": [
        "19. Створіть дві множини. Продемонстуйте над ними операції: обʼєднання, різниці, пересічі та симетричної різниці. Використовуйте методи, що не змінюють множини, а створюють нові."
      ],
      "metadata": {
        "id": "SRMkGizS1UwY"
      }
    },
    {
      "cell_type": "code",
      "source": [
        "set_1 = {1, 2, 3, 4}\n",
        "set_2 = {0, 2, 4, 5}\n",
        "set_union = set_1.union(set_2)\n",
        "set_diff = set_1.difference(set_2)\n",
        "set_inter = set_1.intersection(set_2)\n",
        "set_symdif = set_1.symmetric_difference(set_2)\n",
        "print(f\"set1: {set_1}\")\n",
        "print(f\"set2: {set_2}\")\n",
        "print(\"--------------------\")\n",
        "print(f\"union: {set_union}\")\n",
        "print(f\"difference: {set_diff}\")\n",
        "print(f\"intersection: {set_inter}\")\n",
        "print(f\"symmetric difference: {set_symdif}\")\n",
        "print(\"--------------------\")\n",
        "print(f\"set1: {set_1}\")\n",
        "print(f\"set2: {set_2}\")"
      ],
      "metadata": {
        "id": "h0T-VuDnf3Ri",
        "colab": {
          "base_uri": "https://localhost:8080/"
        },
        "outputId": "2e36c49d-5c1e-4e6a-f305-504c36a3599e"
      },
      "execution_count": 78,
      "outputs": [
        {
          "output_type": "stream",
          "name": "stdout",
          "text": [
            "set1: {1, 2, 3, 4}\n",
            "set2: {0, 2, 4, 5}\n",
            "--------------------\n",
            "union: {0, 1, 2, 3, 4, 5}\n",
            "difference: {1, 3}\n",
            "intersection: {2, 4}\n",
            "symmetric difference: {0, 1, 3, 5}\n",
            "--------------------\n",
            "set1: {1, 2, 3, 4}\n",
            "set2: {0, 2, 4, 5}\n"
          ]
        }
      ]
    },
    {
      "cell_type": "markdown",
      "source": [
        "# VII. Словники (Dictionary)."
      ],
      "metadata": {
        "id": "kWc8gkzTx7Ea"
      }
    },
    {
      "cell_type": "markdown",
      "source": [
        "20. Створіть пустий словник. До нього додайте чотири пари елементів такі, щоб їхні ключі були різних типів. Чи може список бути ключем? Чому?"
      ],
      "metadata": {
        "id": "i5FLwj-B2ybQ"
      }
    },
    {
      "cell_type": "code",
      "source": [
        "my_dict = {}\n",
        "my_dict[0] = \"0\"\n",
        "my_dict[\"a\"] = 1\n",
        "my_dict[True] = False\n",
        "my_dict[(\"t\", \"u\", \"p\", \"l\", \"e\")] = \"tuple\"\n",
        "print(my_dict)"
      ],
      "metadata": {
        "id": "hxgv3BzrgLAV",
        "colab": {
          "base_uri": "https://localhost:8080/"
        },
        "outputId": "f090716b-86bd-496e-c4dd-5785a68c5c65"
      },
      "execution_count": 84,
      "outputs": [
        {
          "output_type": "stream",
          "name": "stdout",
          "text": [
            "{0: '0', 'a': 1, True: False, ('t', 'u', 'p', 'l', 'e'): 'tuple'}\n"
          ]
        }
      ]
    },
    {
      "cell_type": "markdown",
      "source": [
        "Список не може бути ключем, оскільки він є змінним типом даних, а отже для нього не можна визначити значення хеш-функції"
      ],
      "metadata": {
        "id": "zwa7UVN-gR3m"
      }
    },
    {
      "cell_type": "markdown",
      "source": [
        "21. Створіть словник, де значенням в одній з пар теж буде словник, який теж має вкладений словник. Виведіть на екран значення, що міститься в словнику, що знаходиться на найнижчому рівні ієрархії вкладеності (найбільш внутрішній)."
      ],
      "metadata": {
        "id": "WM_pMlJsgoNf"
      }
    },
    {
      "cell_type": "code",
      "source": [
        "my_dict = {1: \"1\", 2: \"2\", \"d2\": {1: \"1\", \"d3\": {\"d\": 2, 3: \"3\"}}}\n",
        "inner_dict = my_dict[\"d2\"][\"d3\"]\n",
        "print(my_dict)\n",
        "print(f\"inner dictionary: {inner_dict}\")"
      ],
      "metadata": {
        "id": "60dlP7IHhAy4",
        "colab": {
          "base_uri": "https://localhost:8080/"
        },
        "outputId": "0de3bc0a-aeae-4105-a7cc-db138ce5f835"
      },
      "execution_count": 87,
      "outputs": [
        {
          "output_type": "stream",
          "name": "stdout",
          "text": [
            "{1: '1', 2: '2', 'd2': {1: '1', 'd3': {'d': 2, 3: '3'}}}\n",
            "inner dictionary: {'d': 2, 3: '3'}\n"
          ]
        }
      ]
    },
    {
      "cell_type": "markdown",
      "source": [
        "# Вітаю! Ви велика(ий) молодець, що впоралась(вся). Похваліть себе та побалуйте чимось приємним. Я Вами пишаюся."
      ],
      "metadata": {
        "id": "xOZP0hkx6cCr"
      }
    }
  ]
}