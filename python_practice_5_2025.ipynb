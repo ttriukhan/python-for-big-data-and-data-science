{
  "nbformat": 4,
  "nbformat_minor": 0,
  "metadata": {
    "colab": {
      "provenance": []
    },
    "kernelspec": {
      "name": "python3",
      "display_name": "Python 3"
    },
    "language_info": {
      "name": "python"
    }
  },
  "cells": [
    {
      "cell_type": "markdown",
      "source": [
        "# I. OOP"
      ],
      "metadata": {
        "id": "5qV_sehzFCTp"
      }
    },
    {
      "cell_type": "markdown",
      "source": [
        "1. (6б). Створіть клас Building, додайте три атрибути, один з яких має значення за замовчуванням та два методи на свій розсуд."
      ],
      "metadata": {
        "id": "tx_U_hOALyfg"
      }
    },
    {
      "cell_type": "code",
      "source": [
        "class Building:\n",
        "    def __init__(self, address, residents_number, floors=1):\n",
        "        self.floors = max(floors, 1)\n",
        "        self.address = address\n",
        "        self.residents_number = max(residents_number, 0)\n",
        "\n",
        "    def __str__(self):\n",
        "        return f\"Address: {self.address}\\nFloors: {self.floors}\\nResidents: {self.residents_number}\"\n",
        "\n",
        "    def get_info(self):\n",
        "        return f\"This building's address is \\\"{self.address}\\\", it has {self.floors} floors and currently there are {self.residents_number} residents.\"\n",
        "\n",
        "    def change_residents_number(self, change):\n",
        "        self.residents_number = max(self.residents_number + change, 0)\n",
        "        return None"
      ],
      "metadata": {
        "id": "-Vf895KaL88N"
      },
      "execution_count": 20,
      "outputs": []
    },
    {
      "cell_type": "markdown",
      "source": [
        "2. (2б). Створіть два обʼєкти цього класу, де один з обʼєктів створюється із дефолтним значенням атрибуту. На одному обʼєкті отримайте значення його атрибуту, а на іншому викличте один з його методів."
      ],
      "metadata": {
        "id": "X_UlOMB0L93w"
      }
    },
    {
      "cell_type": "code",
      "source": [
        "building_1 = Building(\"Kyiv, O.Ekster street, 14B\", 700, 9)\n",
        "building_2 = Building(\"Lubny, M.Khvylovy, 120\", 4)\n",
        "\n",
        "print(f\"Building 1 is located at {building_1.address}\")\n",
        "print(building_2.get_info())\n",
        "building_2.change_residents_number(-1)\n",
        "print(building_2.get_info())"
      ],
      "metadata": {
        "id": "7gBu0ESOMCpG",
        "colab": {
          "base_uri": "https://localhost:8080/"
        },
        "outputId": "9ba6a073-4813-4416-e4b8-7789fc6bdc04"
      },
      "execution_count": 21,
      "outputs": [
        {
          "output_type": "stream",
          "name": "stdout",
          "text": [
            "Building 1 is located at Kyiv, O.Ekster street, 14B\n",
            "This building's address is \"Lubny, M.Khvylovy, 120\", it has 1 floors and currently there are 4 residents.\n",
            "This building's address is \"Lubny, M.Khvylovy, 120\", it has 1 floors and currently there are 3 residents.\n"
          ]
        }
      ]
    },
    {
      "cell_type": "markdown",
      "source": [
        "3. (5б). Створіть клас, де атрибути мають різні рівні доступу. Спробуйте отримати їхні значення та опишіть результати."
      ],
      "metadata": {
        "id": "HoqSCZt1MHn5"
      }
    },
    {
      "cell_type": "code",
      "source": [
        "class Employee:\n",
        "    def __init__(self, name, phone_number, salary):\n",
        "        self.name = name\n",
        "        self._phone_number = phone_number\n",
        "        self.__salary = max(salary, 0)\n",
        "\n",
        "employee = Employee(\"Tetiana\", \"+3800009009090\", 10000)\n",
        "print(f\"Name: {employee.name}\")\n",
        "print(f\"Phone: {employee._phone_number}\")\n",
        "try:\n",
        "    print(f\"Salary: {employee.__salary}\")\n",
        "except:\n",
        "    print(\"Error trying to get access to private attribute\")\n",
        "print(\"So we can access public attributes\")\n",
        "print(\"We can even access protected attributes, but it is not a good practice, as it disrupts incapsulation\")\n",
        "print(\"We can't get access to private attributes straight forward\")"
      ],
      "metadata": {
        "id": "r9b3vJxBMSPV",
        "colab": {
          "base_uri": "https://localhost:8080/"
        },
        "outputId": "47f6f19b-ee9b-438a-c653-5b09a1a344c2"
      },
      "execution_count": 22,
      "outputs": [
        {
          "output_type": "stream",
          "name": "stdout",
          "text": [
            "Name: Tetiana\n",
            "Phone: +3800009009090\n",
            "Error trying to get access to private attribute\n",
            "So we can access public attributes\n",
            "We can even access protected attributes, but it is not a good practice, as it disrupts incapsulation\n",
            "We can't get access to private attributes straight forward\n"
          ]
        }
      ]
    },
    {
      "cell_type": "markdown",
      "source": [
        "4. (7б). Як ви розумієте термін self? Для чого використовується метод __init __?"
      ],
      "metadata": {
        "id": "5op2m2vgMSkZ"
      }
    },
    {
      "cell_type": "markdown",
      "source": [
        "self - це вказівник на об'єкт (на самого себе), він містить в собі інформацію про його стан та методи\n",
        "<br>\n",
        "\\_\\_init\\_\\_ - використовується для ініціалізації об'єктів з їх початковими станами (не для створення, для цього існує метод \\_\\_new\\_\\_)"
      ],
      "metadata": {
        "id": "DyiPqNRvMasx"
      }
    },
    {
      "cell_type": "markdown",
      "source": [
        "5. (9б). Створіть клас 3D-фігура без атрибутів, з методом get_volume для отримання об'єму фігури, що повертає 0 та __add __, який приймає self та other в якості аргументів, а повертає суму об'ємів 3d-фігур self та other."
      ],
      "metadata": {
        "id": "-6X8EGfjMd2y"
      }
    },
    {
      "cell_type": "code",
      "source": [
        "class Shape3D:\n",
        "    def get_volume(self):\n",
        "        return 0\n",
        "\n",
        "    def __add__(self, other):\n",
        "        if isinstance(other, Shape3D):\n",
        "            return self.get_volume() + other.get_volume()\n",
        "        raise Exception(\"Not valid arguments\")"
      ],
      "metadata": {
        "id": "4rvO_wYUMaEr"
      },
      "execution_count": 23,
      "outputs": []
    },
    {
      "cell_type": "markdown",
      "source": [
        "6. (11б). Створіть 2 дочірніх класи від 3d-фігура: Циліндр та Куб, які мають атрибути, необхідні для розрахунку об'єму. Визначте метод get_volume в кожному з них так, щоби вони розраховували об'єм у залежності від формули для кожного типу фігури. Створіть обʼєкт класу Циліндр та обʼєкт класу Куб. Виконайте операцію суми за допомогою оператора + між ними, аби знайти сумарний об'єм."
      ],
      "metadata": {
        "id": "SFcKnnv5Mo_z"
      }
    },
    {
      "cell_type": "code",
      "source": [
        "import math\n",
        "\n",
        "class Cube(Shape3D):\n",
        "    def __init__(self, side=1):\n",
        "        self.side = side if side > 0 else 1\n",
        "\n",
        "    def get_volume(self):\n",
        "        return self.side ** 3\n",
        "\n",
        "class Cylinder(Shape3D):\n",
        "    def __init__(self, radius=1, height=1):\n",
        "        self.radius = radius if radius > 0 else 1\n",
        "        self.height = height if height > 0 else 1\n",
        "\n",
        "    def get_volume(self):\n",
        "        return math.pi * (self.radius ** 2) * self.height\n",
        "\n",
        "cube = Cube(2)\n",
        "cylinder = Cylinder(2,3)\n",
        "print(f\"Cube volume = {cube.get_volume()}\")\n",
        "print(f\"Cylinder volume = {cylinder.get_volume()}\")\n",
        "print(f\"Total volume = {cube + cylinder}\")"
      ],
      "metadata": {
        "id": "H3GVNr69Muf3",
        "colab": {
          "base_uri": "https://localhost:8080/"
        },
        "outputId": "1e7a4fbb-d073-4e77-e68d-83ec7e205799"
      },
      "execution_count": 24,
      "outputs": [
        {
          "output_type": "stream",
          "name": "stdout",
          "text": [
            "Cube volume = 8\n",
            "Cylinder volume = 37.69911184307752\n",
            "Total volume = 45.69911184307752\n"
          ]
        }
      ]
    },
    {
      "cell_type": "markdown",
      "source": [
        "7. (3б). Продемонструйте різницю між isinstance та issubclass."
      ],
      "metadata": {
        "id": "HCvR206YMvLK"
      }
    },
    {
      "cell_type": "code",
      "source": [
        "print(f\"cube isinstance of Cube: {isinstance(cube, Cube)}\")\n",
        "print(f\"cube isinstance of Shape3D: {isinstance(cube, Shape3D)}\")\n",
        "print(f\"cylinder isinstance of Shape3D: {isinstance(cylinder, Shape3D)}\")\n",
        "print(f\"cylinder isinstance of Cube: {isinstance(cylinder, Cube)}\")\n",
        "print(\"isinstance takes an object and a class (or tuple)\\nand checks if the object is an instance of the class (or the instance of that class' subclasses).\")\n",
        "print(\"---------------------------------------------------\")\n",
        "print(f\"Cube issubclass of Cube: {issubclass(Cube, Cube)}\")\n",
        "print(f\"Cube issubclass of Shape3D: {issubclass(Cube, Shape3D)}\")\n",
        "print(f\"Cylinder issubclass of Shape3D: {issubclass(Cylinder, Shape3D)}\")\n",
        "print(f\"Cylinder issubclass of Cube: {issubclass(Cylinder, Cube)}\")\n",
        "print(\"issubclass takes two classes (or class and tuple) instead\\nand checks if first class is derived from the other (or is the same class).\")"
      ],
      "metadata": {
        "id": "L_V1bBvDM0GN",
        "colab": {
          "base_uri": "https://localhost:8080/"
        },
        "outputId": "dac7d95a-c449-441d-a440-6f2900631052"
      },
      "execution_count": 25,
      "outputs": [
        {
          "output_type": "stream",
          "name": "stdout",
          "text": [
            "cube isinstance of Cube: True\n",
            "cube isinstance of Shape3D: True\n",
            "cylinder isinstance of Shape3D: True\n",
            "cylinder isinstance of Cube: False\n",
            "isinstance takes an object and a class (or tuple)\n",
            "and checks if the object is an instance of the class (or the instance of that class' subclasses).\n",
            "---------------------------------------------------\n",
            "Cube issubclass of Cube: True\n",
            "Cube issubclass of Shape3D: True\n",
            "Cylinder issubclass of Shape3D: True\n",
            "Cylinder issubclass of Cube: False\n",
            "issubclass takes two classes (or class and tuple) instead\n",
            "and checks if first class is derived from the other (or is the same class).\n"
          ]
        }
      ]
    },
    {
      "cell_type": "markdown",
      "source": [
        "8. (13б). Створіть клас EWallet з приватними атрибутами balance та id. Реалізуйте методи поповнення та зняття коштів, забезпечивши належну інкапсуляцію. Підказка: використовуйте декоратори property та setter."
      ],
      "metadata": {
        "id": "jjsaBZ-iM0Qq"
      }
    },
    {
      "cell_type": "code",
      "source": [
        "class EWallet:\n",
        "    def __init__(self, id, balance):\n",
        "        self.__id = id\n",
        "        self.__balance = balance\n",
        "\n",
        "    @property\n",
        "    def id(self):\n",
        "        return self.__id\n",
        "\n",
        "    @property\n",
        "    def balance(self):\n",
        "        return self.__balance\n",
        "\n",
        "    @balance.setter\n",
        "    def balance(self, value):\n",
        "        if value < 0:\n",
        "            raise ValueError(\"Balance cannot be negative.\")\n",
        "        self.__balance = value\n",
        "\n",
        "    def top_up(self, increment):\n",
        "        if increment <= 0:\n",
        "            raise ValueError(\"Increment must be > 0\")\n",
        "        self.balance += increment\n",
        "        print(f\"+{increment}, current balance is {self.balance}\")\n",
        "        return None\n",
        "\n",
        "    def withdraw(self, decrement):\n",
        "        if decrement <= 0:\n",
        "            raise ValueError(\"Decrement must be > 0\")\n",
        "        self.balance -= decrement\n",
        "        print(f\"-{decrement}, current balance is {self.balance}\")\n",
        "        return None\n",
        "\n",
        "wall_e = EWallet(1, 10)\n",
        "print(f\"Current balance: {wall_e.balance}\")\n",
        "wall_e.top_up(25)\n",
        "wall_e.withdraw(5)"
      ],
      "metadata": {
        "id": "xCvZ7lh8M7YA",
        "colab": {
          "base_uri": "https://localhost:8080/"
        },
        "outputId": "829678d0-e446-4f1d-f265-1eccbbf8d20f"
      },
      "execution_count": 34,
      "outputs": [
        {
          "output_type": "stream",
          "name": "stdout",
          "text": [
            "Current balance: 10\n",
            "+25, current balance is 35\n",
            "-5, current balance is 30\n"
          ]
        }
      ]
    },
    {
      "cell_type": "markdown",
      "source": [
        "9. (11б). Створіть клас ShoppingCart, який містить список об'єктів типу Item. Реалізуйте методи для додавання айтемів, їх видалення та відображення списку айтемів."
      ],
      "metadata": {
        "id": "tIzL2SJTM8ft"
      }
    },
    {
      "cell_type": "code",
      "source": [
        "class Item:\n",
        "    def __init__(self, name, price):\n",
        "        self.__name = name\n",
        "        self.__price = price\n",
        "\n",
        "    @property\n",
        "    def name(self):\n",
        "        return self.__name\n",
        "\n",
        "    @property\n",
        "    def price(self):\n",
        "        return self.__price\n",
        "\n",
        "    @name.setter\n",
        "    def name(self, value):\n",
        "        if not isinstance(value, str):\n",
        "            raise ValueError(\"Name must be a string\")\n",
        "        if len(value) == 0:\n",
        "            raise ValueError(\"Name can't be empty\")\n",
        "        self.__name = value\n",
        "\n",
        "    @price.setter\n",
        "    def price(self, value):\n",
        "        if not isinstance(value, (int, float)):\n",
        "            raise ValueError(\"Price must be a numeric value\")\n",
        "        if value <= 0:\n",
        "            raise ValueError(\"Price can't be negative\")\n",
        "        self.__price = value\n",
        "\n",
        "    def __str__(self):\n",
        "        return f\"{self.name} - {self.price}$\"\n",
        "\n",
        "class ShoppingCart:\n",
        "    def __init__(self):\n",
        "        self.__items = []\n",
        "\n",
        "    @property\n",
        "    def items(self):\n",
        "        return self.__items.copy()\n",
        "\n",
        "    def add_item(self, item):\n",
        "        if not isinstance(item, Item):\n",
        "            raise ValueError(\"Value is not an Item\")\n",
        "        self.__items.append(item)\n",
        "        print(f\"New item {item} was added to the cart\")\n",
        "        return None\n",
        "\n",
        "    def remove_item(self, item):\n",
        "        if not (isinstance(item, Item)):\n",
        "            raise ValueError(\"value is not an Item\")\n",
        "        if item in self.__items:\n",
        "            self.__items.remove(item)\n",
        "            print(f\"Item {item} was removed from the cart\")\n",
        "        else:\n",
        "            print(f\"Item {item} is not in the cart\")\n",
        "        return None\n",
        "\n",
        "    def show_items(self):\n",
        "        if not self.__items:\n",
        "            print(\"Cart is empty\")\n",
        "        else:\n",
        "            print(\"Cart:\")\n",
        "            for item in self.__items:\n",
        "                print(item)\n",
        "        return None\n",
        "\n",
        "item_1 = Item(\"Bounty\", 0.67)\n",
        "item_2 = Item(\"CocaCola\", 1.20)\n",
        "item_3 = Item(\"Insalata\", 1.45)\n",
        "\n",
        "cart = ShoppingCart()\n",
        "cart.show_items()\n",
        "print(\"--------------------------\")\n",
        "cart.add_item(item_1)\n",
        "cart.add_item(item_2)\n",
        "cart.add_item(item_3)\n",
        "print(\"--------------------------\")\n",
        "cart.show_items()\n",
        "print(\"--------------------------\")\n",
        "cart.remove_item(item_2)\n",
        "cart.remove_item(item_2)\n",
        "print(\"--------------------------\")\n",
        "cart.show_items()"
      ],
      "metadata": {
        "id": "HWxfJKLtNAUZ",
        "colab": {
          "base_uri": "https://localhost:8080/"
        },
        "outputId": "3cbf3322-c9bb-4cfa-f726-5c00d6a81798"
      },
      "execution_count": 56,
      "outputs": [
        {
          "output_type": "stream",
          "name": "stdout",
          "text": [
            "Cart is empty\n",
            "--------------------------\n",
            "New item Bounty - 0.67$ was added to the cart\n",
            "New item CocaCola - 1.2$ was added to the cart\n",
            "New item Insalata - 1.45$ was added to the cart\n",
            "--------------------------\n",
            "Cart:\n",
            "Bounty - 0.67$\n",
            "CocaCola - 1.2$\n",
            "Insalata - 1.45$\n",
            "--------------------------\n",
            "Item CocaCola - 1.2$ was removed from the cart\n",
            "Item CocaCola - 1.2$ is not in the cart\n",
            "--------------------------\n",
            "Cart:\n",
            "Bounty - 0.67$\n",
            "Insalata - 1.45$\n"
          ]
        }
      ]
    },
    {
      "cell_type": "markdown",
      "source": [
        "10. (13б). Створіть клас Vehicle з атрибутами brand (manufacturer) та production_age. Створіть ще один клас Engine з такими атрибутами, як type (ex. petrol) та size (volume, litres). Створіть клас Car, який успадковує обидва класи Vehicle та Engine. Продемонструйте використання множинної спадковості, створивши обʼєкт класу Car та отримавши mro для цього класу."
      ],
      "metadata": {
        "id": "lmV8pAwwNIqu"
      }
    },
    {
      "cell_type": "code",
      "source": [
        "class Vehicle:\n",
        "    def __init__(self, brand, production_age):\n",
        "        self.brand = brand\n",
        "        self.production_age = production_age\n",
        "\n",
        "    def __str__(self):\n",
        "        return f\"Vehicle: brand - {self.brand}, age - {self.production_age}\"\n",
        "\n",
        "class Engine:\n",
        "    def __init__(self, petrol, volume):\n",
        "        self.petrol = petrol\n",
        "        self.volume = volume\n",
        "\n",
        "    def __str__(self):\n",
        "        return f\"Engine with volume {self.volume} uses petrol \\\"{self.petrol}\\\"\"\n",
        "\n",
        "class Car(Vehicle, Engine):\n",
        "    def __init__(self, brand, production_age, petrol, volume):\n",
        "        Vehicle.__init__(self, brand, production_age)\n",
        "        Engine.__init__(self, petrol, volume)\n",
        "\n",
        "    def __str__(self):\n",
        "        return f\"Car of brand {self.brand} producted {self.production_age} years ago has engine with volume {self.volume} and runs on petrol \\\"{self.petrol}\\\"\"\n",
        "\n",
        "my_car = Car(\"Chevrolet\", 7, \"good petrol\", 10)\n",
        "print(my_car)\n",
        "print(Car.__mro__)"
      ],
      "metadata": {
        "id": "R49grKlWNPeN",
        "colab": {
          "base_uri": "https://localhost:8080/"
        },
        "outputId": "ba8ef2b2-2144-467a-9ad5-71df7c91c89e"
      },
      "execution_count": 61,
      "outputs": [
        {
          "output_type": "stream",
          "name": "stdout",
          "text": [
            "Car of brand Chevrolet producted 7 years ago has engine with volume 10 and runs on petrol \"good petrol\"\n",
            "(<class '__main__.Car'>, <class '__main__.Vehicle'>, <class '__main__.Engine'>, <class 'object'>)\n"
          ]
        }
      ]
    },
    {
      "cell_type": "markdown",
      "source": [
        "# II. Iterator"
      ],
      "metadata": {
        "id": "dIJyUiNBFG8G"
      }
    },
    {
      "cell_type": "markdown",
      "source": [
        "11. (4б). Визначте рядок(str) з 4ма різними за значенням символами. Створіть ітератор на основі цього рядка. Викличте 5 разів функцію next на ітераторі, 4ри перших з них огорніть у ф-цію print()."
      ],
      "metadata": {
        "id": "13vsm0NyKIzL"
      }
    },
    {
      "cell_type": "code",
      "source": [
        "my_str = \"abcd\"\n",
        "iterator = iter(my_str)\n",
        "\n",
        "print(next(iterator))\n",
        "print(next(iterator))\n",
        "print(next(iterator))\n",
        "print(next(iterator))\n",
        "try:\n",
        "    next(iterator)\n",
        "except:\n",
        "    print(\"Can't get next\")"
      ],
      "metadata": {
        "id": "81ntabAkKuz-",
        "colab": {
          "base_uri": "https://localhost:8080/"
        },
        "outputId": "1a81a9d2-ecaa-4d6f-ecf8-d76b84581707"
      },
      "execution_count": 26,
      "outputs": [
        {
          "output_type": "stream",
          "name": "stdout",
          "text": [
            "a\n",
            "b\n",
            "c\n",
            "d\n",
            "Can't get next\n"
          ]
        }
      ]
    },
    {
      "cell_type": "markdown",
      "source": [
        "А що якщо викликати цю ж функцію на рядку?"
      ],
      "metadata": {
        "id": "aekWHGXOLRsO"
      }
    },
    {
      "cell_type": "code",
      "source": [
        "try:\n",
        "    next(my_str)\n",
        "except Exception as e:\n",
        "    print(e)"
      ],
      "metadata": {
        "id": "mxATGsErLV1i",
        "colab": {
          "base_uri": "https://localhost:8080/"
        },
        "outputId": "74727ca3-e178-49a8-e28a-a2e13b08e76b"
      },
      "execution_count": 8,
      "outputs": [
        {
          "output_type": "stream",
          "name": "stdout",
          "text": [
            "'str' object is not an iterator\n"
          ]
        }
      ]
    },
    {
      "cell_type": "markdown",
      "source": [
        " 12. (5б). Опишіть своїми словами в одному реченні, як ви розумієте різницю між ітерабельними обʼєктами та ітераторами (можна на прикладі)."
      ],
      "metadata": {
        "id": "XwtMEopwJ4pH"
      }
    },
    {
      "cell_type": "markdown",
      "source": [
        "Ітерабельні об'єкти - це такі, що можна перебрати, і що можуть повертати ітератори, тоді як ітератори є одноразовими об'єктами, які зберігають стан ітерації."
      ],
      "metadata": {
        "id": "-sHrODc3KFn8"
      }
    },
    {
      "cell_type": "markdown",
      "source": [
        "13. (11б). Створіть клас, що має визначений Iterator Protocol та при кожному виклику next повертає назву дня тижня, поки вони не вичерпаються. Зверніть увагу, що порядок має значення."
      ],
      "metadata": {
        "id": "E9qJWmNbK8Gl"
      }
    },
    {
      "cell_type": "code",
      "source": [
        "class WeekdayIterator:\n",
        "    def __init__(self):\n",
        "        self._days_of_week = [\"Mon\", \"Tue\", \"Wed\", \"Thu\", \"Fri\", \"Sat\", \"Sun\"]\n",
        "        self._index = 0\n",
        "\n",
        "    def __iter__(self):\n",
        "        return self\n",
        "\n",
        "    def __next__(self):\n",
        "        if self._index >= len(self._days_of_week):\n",
        "            raise StopIteration\n",
        "        day = self._days_of_week[self._index]\n",
        "        self._index += 1\n",
        "        return day\n",
        "\n",
        "week = WeekdayIterator()\n",
        "print(next(week))\n",
        "print(next(week))\n",
        "print(next(week))\n",
        "print(next(week))\n",
        "print(next(week))\n",
        "print(next(week))\n",
        "print(next(week))\n",
        "try:\n",
        "    next(week)\n",
        "except:\n",
        "    print(\"Can't get next\")"
      ],
      "metadata": {
        "id": "cqx-g_RsLo6I",
        "colab": {
          "base_uri": "https://localhost:8080/"
        },
        "outputId": "e481d763-2dd8-4111-d051-359c6d2a3f39"
      },
      "execution_count": 18,
      "outputs": [
        {
          "output_type": "stream",
          "name": "stdout",
          "text": [
            "Mon\n",
            "Tue\n",
            "Wed\n",
            "Thu\n",
            "Fri\n",
            "Sat\n",
            "Sun\n",
            "Can't get next\n"
          ]
        }
      ]
    },
    {
      "cell_type": "markdown",
      "source": [
        "# Вітаю! Ви велика(ий) молодець, що впоралась(вся). Похваліть себе та побалуйте чимось приємним. Я Вами пишаюся."
      ],
      "metadata": {
        "id": "Z3E3S_s1Fv7-"
      }
    }
  ]
}